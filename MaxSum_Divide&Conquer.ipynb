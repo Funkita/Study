{
  "nbformat": 4,
  "nbformat_minor": 0,
  "metadata": {
    "colab": {
      "provenance": [],
      "authorship_tag": "ABX9TyMwgbxfEWW7pYdnxb4cCNRm",
      "include_colab_link": true
    },
    "kernelspec": {
      "name": "python3",
      "display_name": "Python 3"
    },
    "language_info": {
      "name": "python"
    }
  },
  "cells": [
    {
      "cell_type": "markdown",
      "metadata": {
        "id": "view-in-github",
        "colab_type": "text"
      },
      "source": [
        "<a href=\"https://colab.research.google.com/github/Funkita/Study/blob/main/MaxSum_Divide%26Conquer.ipynb\" target=\"_parent\"><img src=\"https://colab.research.google.com/assets/colab-badge.svg\" alt=\"Open In Colab\"/></a>"
      ]
    },
    {
      "cell_type": "code",
      "execution_count": 4,
      "metadata": {
        "colab": {
          "base_uri": "https://localhost:8080/"
        },
        "id": "SdqDia3dsBc2",
        "outputId": "039636f5-3ac6-4dbd-b995-9dad2b06662b"
      },
      "outputs": [
        {
          "output_type": "stream",
          "name": "stdout",
          "text": [
            "7\n",
            "28\n",
            "22\n",
            "16\n"
          ]
        }
      ],
      "source": [
        "def max_cross_sum(profits, start, end):\n",
        "\n",
        "  mid = (start + end) // 2\n",
        "\n",
        "  left_sum = 0\n",
        "  right_sum = 0\n",
        "  max_left = profits[mid]  \n",
        "  max_right = profits[mid+1]\n",
        "\n",
        "  for i in range(mid, start-1, -1):\n",
        "    left_sum += profits[i]\n",
        "    max_left = max(max_left, left_sum)\n",
        "\n",
        "  for j in range(mid+1, end+1):\n",
        "    right_sum += profits[j]\n",
        "    max_right = max(max_right, right_sum)\n",
        "\n",
        "  return max_left + max_right\n",
        "\n",
        "def sublist_max(profits, start, end):\n",
        "  \n",
        "  if start == end:\n",
        "    return profits[start]\n",
        "\n",
        "  mid = (start + end) // 2\n",
        "  \n",
        "  left = sublist_max(profits, start, mid)\n",
        "  right = sublist_max(profits, mid+1, end)\n",
        "  \n",
        "  return max(max_cross_sum(profits, start, end), left, right)\n",
        "\n",
        "# 테스트 코드\n",
        "list1 = [-2, -3, 4, -1, -2, 1, 5, -3]\n",
        "print(sublist_max(list1, 0, len(list1) - 1))\n",
        "\n",
        "list2 = [4, 7, -6, 9, 2, 6, -5, 7, 3, 1, -1, -7, 2]\n",
        "print(sublist_max(list2, 0, len(list2) - 1))\n",
        "\n",
        "list3 = [9, -8, 0, -7, 8, -6, -3, -8, 9, 2, 8, 3, -5, 1, -7, -1, 10, -1, -9, -5]\n",
        "print(sublist_max(list3, 0, len(list3) - 1))\n",
        "\n",
        "list4 = [-9, -8, -8, 6, -4, 6, -2, -3, -10, -8, -9, -9, 6, 2, 8, -1, -1]\n",
        "print(sublist_max(list4, 0, len(list4) - 1))"
      ]
    },
    {
      "cell_type": "code",
      "source": [
        "def sublist_max(profits):\n",
        "    # 여기에 코드를 작성하세요\n",
        "  profit_so_far = profits[0]\n",
        "  very_right_sum = profits[0]\n",
        "  for i in range(1, len(profits)):\n",
        "    very_right_sum = max(very_right_sum+profits[i], profits[i])\n",
        "    profit_so_far = max(profit_so_far, very_right_sum)\n",
        "\n",
        "  return profit_so_far\n",
        "\n",
        "# 테스트 코드\n",
        "print(sublist_max([7, -3, 4, -8]))\n",
        "print(sublist_max([-2, -3, 4, -1, -2, 1, 5, -3, -1]))"
      ],
      "metadata": {
        "colab": {
          "base_uri": "https://localhost:8080/"
        },
        "id": "zHw0rHjrY4E3",
        "outputId": "477830fe-78c4-4ae7-9274-3db022fbdcf2"
      },
      "execution_count": 1,
      "outputs": [
        {
          "output_type": "stream",
          "name": "stdout",
          "text": [
            "8\n",
            "7\n"
          ]
        }
      ]
    }
  ]
}