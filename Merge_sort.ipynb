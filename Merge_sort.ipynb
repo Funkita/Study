{
  "nbformat": 4,
  "nbformat_minor": 0,
  "metadata": {
    "colab": {
      "provenance": [],
      "authorship_tag": "ABX9TyMtZvCwaomnOhJJWYEWU361",
      "include_colab_link": true
    },
    "kernelspec": {
      "name": "python3",
      "display_name": "Python 3"
    },
    "language_info": {
      "name": "python"
    }
  },
  "cells": [
    {
      "cell_type": "markdown",
      "metadata": {
        "id": "view-in-github",
        "colab_type": "text"
      },
      "source": [
        "<a href=\"https://colab.research.google.com/github/Funkita/Study/blob/main/Merge_sort.ipynb\" target=\"_parent\"><img src=\"https://colab.research.google.com/assets/colab-badge.svg\" alt=\"Open In Colab\"/></a>"
      ]
    },
    {
      "cell_type": "code",
      "execution_count": 38,
      "metadata": {
        "colab": {
          "base_uri": "https://localhost:8080/"
        },
        "id": "SPl_MDmhWcqZ",
        "outputId": "76d30b38-0e6f-49a4-e647-bc62f4a1c986"
      },
      "outputs": [
        {
          "output_type": "stream",
          "name": "stdout",
          "text": [
            "[1, 3, 5, 7, 9, 11, 11, 13]\n",
            "[1, 5, 7, 9, 13, 15, 28, 30, 48]\n",
            "[1, 1, 2, 2, 4, 4, 4, 5, 6, 6, 7, 7, 10, 11, 13, 15]\n"
          ]
        }
      ],
      "source": [
        "def merge(list1, list2):\n",
        "    # 여기에 코드를 작성하세요\n",
        "  res = []\n",
        "  i = j = 0\n",
        "  while i < len(list1) and j < len(list2):\n",
        "    if list1[i] < list2[j]:\n",
        "      res.append(list1[i])\n",
        "      i += 1\n",
        "    else:\n",
        "      res.append(list2[j])\n",
        "      j += 1\n",
        "            \n",
        "  while i < len(list1):\n",
        "    res.append(list1[i])\n",
        "    i += 1\n",
        "    \n",
        "  while j < len(list2):\n",
        "    res.append(list2[j])\n",
        "    j += 1\n",
        "    \n",
        "  return res\n",
        "\n",
        "def merge_sort(my_list):\n",
        "  if len(my_list) == 1:\n",
        "    return my_list\n",
        "  else: \n",
        "    mid = len(my_list) // 2\n",
        "    left = my_list[:mid]\n",
        "    right = my_list[mid:]\n",
        "  \n",
        "  return merge(merge_sort(left), merge_sort(right))\n",
        "\n",
        "# 테스트 코드\n",
        "print(merge_sort([1, 3, 5, 7, 9, 11, 13, 11]))\n",
        "print(merge_sort([28, 13, 9, 30, 1, 48, 5, 7, 15]))\n",
        "print(merge_sort([2, 5, 6, 7, 1, 2, 4, 7, 10, 11, 4, 15, 13, 1, 6, 4]))"
      ]
    },
    {
      "cell_type": "code",
      "source": [],
      "metadata": {
        "id": "a9UT1GHX7DHu"
      },
      "execution_count": null,
      "outputs": []
    }
  ]
}