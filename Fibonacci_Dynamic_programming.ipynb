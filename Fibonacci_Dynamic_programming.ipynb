{
  "nbformat": 4,
  "nbformat_minor": 0,
  "metadata": {
    "colab": {
      "provenance": [],
      "authorship_tag": "ABX9TyMTmYJVp0Drt0spweqCpBkJ",
      "include_colab_link": true
    },
    "kernelspec": {
      "name": "python3",
      "display_name": "Python 3"
    },
    "language_info": {
      "name": "python"
    }
  },
  "cells": [
    {
      "cell_type": "markdown",
      "metadata": {
        "id": "view-in-github",
        "colab_type": "text"
      },
      "source": [
        "<a href=\"https://colab.research.google.com/github/Funkita/Study/blob/main/Fibonacci_Dynamic_programming.ipynb\" target=\"_parent\"><img src=\"https://colab.research.google.com/assets/colab-badge.svg\" alt=\"Open In Colab\"/></a>"
      ]
    },
    {
      "cell_type": "code",
      "execution_count": null,
      "metadata": {
        "colab": {
          "base_uri": "https://localhost:8080/"
        },
        "id": "v4P0M4JvB2-R",
        "outputId": "ef4e9bd9-2923-48b1-b36e-6ae6c02bcd67"
      },
      "outputs": [
        {
          "output_type": "stream",
          "name": "stdout",
          "text": [
            "55\n",
            "12586269025\n",
            "354224848179261915075\n"
          ]
        }
      ],
      "source": [
        "def fib_memo(n, cache):\n",
        "    # 여기에 코드를 작성하세요\n",
        "    if n < 3 :\n",
        "      return 1\n",
        "    \n",
        "    if n in cache:\n",
        "      return cache[n]\n",
        "    cache[n] = fib_memo(n-1, cache) + fib_memo(n-2, cache)\n",
        "\n",
        "    return cache[n]\n",
        "\n",
        "def fib(n):\n",
        "    # n번째 피보나치 수를 담는 사전\n",
        "    fib_cache = {}\n",
        "    \n",
        "    return fib_memo(n, fib_cache)\n",
        "\n",
        "\n",
        "# 테스트 코드\n",
        "print(fib(10))\n",
        "print(fib(50))\n",
        "print(fib(100))"
      ]
    },
    {
      "cell_type": "code",
      "source": [
        "def fib_tab(n):\n",
        "  fib_table = [0, 1, 1]\n",
        "\n",
        "  for i in range(3, n+1):\n",
        "    fib_table.append(fib_table[i-1]+fib_table[i-2])\n",
        "\n",
        "  return fib_table[n]\n",
        "\n",
        "# 테스트 코드\n",
        "print(fib_tab(10))\n",
        "print(fib_tab(56))\n",
        "print(fib_tab(132))"
      ],
      "metadata": {
        "colab": {
          "base_uri": "https://localhost:8080/"
        },
        "id": "V_X0Q-aiG3_X",
        "outputId": "dfd06422-88a3-4d5b-9b13-87b5e371039e"
      },
      "execution_count": null,
      "outputs": [
        {
          "output_type": "stream",
          "name": "stdout",
          "text": [
            "55\n",
            "225851433717\n",
            "1725375039079340637797070384\n"
          ]
        }
      ]
    },
    {
      "cell_type": "code",
      "source": [
        "def fib_optimized(n):\n",
        "  current = 1\n",
        "  previous = 0\n",
        "\n",
        "  for i in range(1, n):\n",
        "    current, previous = current+previous, current\n",
        "\n",
        "  return current\n",
        "\n",
        "print(fib_optimized(16))"
      ],
      "metadata": {
        "colab": {
          "base_uri": "https://localhost:8080/"
        },
        "id": "-8E8cNjm4c1n",
        "outputId": "3b501ad8-6147-4ab4-e011-828de8d6c8ea"
      },
      "execution_count": 2,
      "outputs": [
        {
          "output_type": "stream",
          "name": "stdout",
          "text": [
            "987\n"
          ]
        }
      ]
    }
  ]
}