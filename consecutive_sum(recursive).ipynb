{
  "nbformat": 4,
  "nbformat_minor": 0,
  "metadata": {
    "colab": {
      "provenance": [],
      "authorship_tag": "ABX9TyO0FbbScE3oNuDl2XTfZ7Xy",
      "include_colab_link": true
    },
    "kernelspec": {
      "name": "python3",
      "display_name": "Python 3"
    },
    "language_info": {
      "name": "python"
    }
  },
  "cells": [
    {
      "cell_type": "markdown",
      "metadata": {
        "id": "view-in-github",
        "colab_type": "text"
      },
      "source": [
        "<a href=\"https://colab.research.google.com/github/Funkita/test/blob/main/consecutive_sum(recursive).ipynb\" target=\"_parent\"><img src=\"https://colab.research.google.com/assets/colab-badge.svg\" alt=\"Open In Colab\"/></a>"
      ]
    },
    {
      "cell_type": "code",
      "execution_count": 18,
      "metadata": {
        "colab": {
          "base_uri": "https://localhost:8080/"
        },
        "id": "lnCC-EtwVOwn",
        "outputId": "2677df68-e72b-4c3a-c42c-00489ca69809"
      },
      "outputs": [
        {
          "output_type": "stream",
          "name": "stdout",
          "text": [
            "55\n",
            "5050\n",
            "32131\n",
            "75466\n"
          ]
        }
      ],
      "source": [
        "def consecutive_sum(start, end):\n",
        "    # 여기에 코드를 작성하세요\n",
        "    if start == end:\n",
        "      return start\n",
        "    else:\n",
        "      mid = (start+end)//2\n",
        "      return consecutive_sum(start, mid) + consecutive_sum(mid+1, end)\n",
        "\n",
        "# 테스트 코드\n",
        "print(consecutive_sum(1, 10))\n",
        "print(consecutive_sum(1, 100))\n",
        "print(consecutive_sum(1, 253))\n",
        "print(consecutive_sum(1, 388))"
      ]
    },
    {
      "cell_type": "code",
      "source": [
        "def createList(a, b):\n",
        "  \n",
        "  if a == b :\n",
        "    return a\n",
        "  \n",
        "  else: \n",
        "    res = []\n",
        "    while a < b:\n",
        "      res.append(a)\n",
        "      a += 1\n",
        "    return res\n",
        "\n",
        "print(createList(1, 11))"
      ],
      "metadata": {
        "colab": {
          "base_uri": "https://localhost:8080/"
        },
        "id": "72rq54ErLmQN",
        "outputId": "649fd1e9-855b-44c0-9cce-60947e3a9c46"
      },
      "execution_count": 14,
      "outputs": [
        {
          "output_type": "stream",
          "name": "stdout",
          "text": [
            "[1, 2, 3, 4, 5, 6, 7, 8, 9, 10]\n"
          ]
        }
      ]
    }
  ]
}