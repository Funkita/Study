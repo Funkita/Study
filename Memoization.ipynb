{
  "nbformat": 4,
  "nbformat_minor": 0,
  "metadata": {
    "colab": {
      "provenance": [],
      "authorship_tag": "ABX9TyPV2nhuBAk3odJbY2arh16t",
      "include_colab_link": true
    },
    "kernelspec": {
      "name": "python3",
      "display_name": "Python 3"
    },
    "language_info": {
      "name": "python"
    }
  },
  "cells": [
    {
      "cell_type": "markdown",
      "metadata": {
        "id": "view-in-github",
        "colab_type": "text"
      },
      "source": [
        "<a href=\"https://colab.research.google.com/github/Funkita/Study/blob/main/Memoization.ipynb\" target=\"_parent\"><img src=\"https://colab.research.google.com/assets/colab-badge.svg\" alt=\"Open In Colab\"/></a>"
      ]
    },
    {
      "cell_type": "code",
      "execution_count": 1,
      "metadata": {
        "colab": {
          "base_uri": "https://localhost:8080/"
        },
        "id": "sGGqDOEJESha",
        "outputId": "7540981b-005c-4812-85c8-4940da3a6e16"
      },
      "outputs": [
        {
          "output_type": "stream",
          "name": "stdout",
          "text": [
            "1200\n",
            "2500\n",
            "2400\n"
          ]
        }
      ],
      "source": [
        "def max_profit_memo(price_list, count, cache):\n",
        "    # Base Case: 0개 혹은 1개면 부분 문제로 나눌 필요가 없기 때문에 가격을 바로 리턴한다\n",
        "    if count < 2:\n",
        "        cache[count] = price_list[count]\n",
        "        return cache[count]\n",
        "\n",
        "    # 이미 계산한 값이면 cache에 저장된 값을 리턴한다\n",
        "    if count in cache:\n",
        "        return cache[count]\n",
        "\n",
        "    # profit은 count개를 팔아서 가능한 최대 수익을 저장하는 변수\n",
        "    # 팔려고 하는 총개수에 대한 가격이 price_list에 없으면 일단 0으로 설정\n",
        "    # 팔려고 하는 총개수에 대한 가격이 price_list에 있으면 일단 그 가격으로 설정\n",
        "    if count < len(price_list):\n",
        "        profit = price_list[count]\n",
        "    else:\n",
        "        profit = 0\n",
        "\n",
        "    # count개를 팔 수 있는 조합들을 비교해서, 가능한 최대 수익을 profit에 저장\n",
        "    for i in range(1, count // 2 + 1):\n",
        "        profit = max(profit, max_profit_memo(price_list, i, cache) + max_profit_memo(price_list, count - i, cache))\n",
        "\n",
        "    # 계산된 최대 수익을 cache에 저장\n",
        "    cache[count] = profit\n",
        "\n",
        "    return profit\n",
        "\n",
        "\n",
        "def max_profit(price_list, count):\n",
        "    max_profit_cache = {}\n",
        "\n",
        "    return max_profit_memo(price_list, count, max_profit_cache)\n",
        "\n",
        "\n",
        "# 테스트 코드\n",
        "print(max_profit([0, 100, 400, 800, 900, 1000], 5))\n",
        "print(max_profit([0, 100, 400, 800, 900, 1000], 10))\n",
        "print(max_profit([0, 100, 400, 800, 900, 1000, 1400, 1600, 2100, 2200], 9))"
      ]
    },
    {
      "cell_type": "code",
      "source": [
        "#Tabulation version\n",
        "\n",
        "def max_profit(price_list, count):\n",
        "\n",
        "  profit_table  = [0]\n",
        "\n",
        "  for i in range(1, count+1):\n",
        "    if i < len(price_list):\n",
        "      profit = price_list[i]\n",
        "    else:\n",
        "      profit = 0\n",
        "\n",
        "    for j in range(1, i//2+1):\n",
        "      profit = max(profit, profit_table[j] + profit_table[i-j])\n",
        "   \n",
        "    profit_table.append(profit)\n",
        "\n",
        "  return profit_table[count]\n",
        "\n",
        "# 테스트 코드\n",
        "print(max_profit([0, 200, 600, 900, 1200, 2000], 5))\n",
        "print(max_profit([0, 300, 600, 700, 1100, 1400], 8))\n",
        "print(max_profit([0, 100, 200, 400, 600, 900, 1200, 1300, 1500, 1800], 9))\n",
        "\n"
      ],
      "metadata": {
        "colab": {
          "base_uri": "https://localhost:8080/"
        },
        "id": "zfeoguCTdrf-",
        "outputId": "e540f225-7cb2-4c97-a659-ad1b23a6a9fd"
      },
      "execution_count": 3,
      "outputs": [
        {
          "output_type": "stream",
          "name": "stdout",
          "text": [
            "2000\n",
            "2400\n",
            "1800\n"
          ]
        }
      ]
    }
  ]
}