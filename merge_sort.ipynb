{
  "nbformat": 4,
  "nbformat_minor": 0,
  "metadata": {
    "colab": {
      "provenance": [],
      "authorship_tag": "ABX9TyOZyJeDewx7aU+Q8R6CZp5C",
      "include_colab_link": true
    },
    "kernelspec": {
      "name": "python3",
      "display_name": "Python 3"
    },
    "language_info": {
      "name": "python"
    }
  },
  "cells": [
    {
      "cell_type": "markdown",
      "metadata": {
        "id": "view-in-github",
        "colab_type": "text"
      },
      "source": [
        "<a href=\"https://colab.research.google.com/github/Funkita/Study/blob/main/merge_sort.ipynb\" target=\"_parent\"><img src=\"https://colab.research.google.com/assets/colab-badge.svg\" alt=\"Open In Colab\"/></a>"
      ]
    },
    {
      "cell_type": "code",
      "execution_count": 35,
      "metadata": {
        "colab": {
          "base_uri": "https://localhost:8080/"
        },
        "id": "SPl_MDmhWcqZ",
        "outputId": "b03514c0-590f-4b18-aed2-36b1fb13bc09"
      },
      "outputs": [
        {
          "output_type": "stream",
          "name": "stdout",
          "text": [
            "[1]\n",
            "[1]\n",
            "[1, 2]\n",
            "[1, 2, 3, 4, 5, 6, 7, 8]\n",
            "[1, 2, 3, 4, 5, 6, 7, 8]\n",
            "[1, 3, 4, 6, 7, 8, 9, 10]\n"
          ]
        }
      ],
      "source": [
        "def merge(list1, list2):\n",
        "    # 여기에 코드를 작성하세요\n",
        "  res = []\n",
        "  i = j = 0\n",
        "  while i < len(list1) and j < len(list2):\n",
        "    if list1[i] < list2[j]:\n",
        "      res.append(list1[i])\n",
        "      i += 1\n",
        "    else:\n",
        "      res.append(list2[j])\n",
        "      j += 1\n",
        "            \n",
        "  while i < len(list1):\n",
        "    res.append(list1[i])\n",
        "    i += 1\n",
        "    \n",
        "  while j < len(list2):\n",
        "    res.append(list2[j])\n",
        "    j += 1\n",
        "    \n",
        "  return res\n",
        "\n",
        "# 테스트 코드\n",
        "print(merge([1],[]))\n",
        "print(merge([],[1]))\n",
        "print(merge([2],[1]))\n",
        "print(merge([1, 2, 3, 4],[5, 6, 7, 8]))\n",
        "print(merge([5, 6, 7, 8],[1, 2, 3, 4]))\n",
        "print(merge([4, 7, 8, 9],[1, 3, 6, 10]))"
      ]
    }
  ]
}