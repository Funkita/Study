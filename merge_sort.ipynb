{
  "nbformat": 4,
  "nbformat_minor": 0,
  "metadata": {
    "colab": {
      "provenance": [],
      "authorship_tag": "ABX9TyOcOAR/khJdl92MJCqpmmgP",
      "include_colab_link": true
    },
    "kernelspec": {
      "name": "python3",
      "display_name": "Python 3"
    },
    "language_info": {
      "name": "python"
    }
  },
  "cells": [
    {
      "cell_type": "markdown",
      "metadata": {
        "id": "view-in-github",
        "colab_type": "text"
      },
      "source": [
        "<a href=\"https://colab.research.google.com/github/Funkita/Study/blob/main/merge_sort.ipynb\" target=\"_parent\"><img src=\"https://colab.research.google.com/assets/colab-badge.svg\" alt=\"Open In Colab\"/></a>"
      ]
    },
    {
      "cell_type": "code",
      "execution_count": null,
      "metadata": {
        "id": "SPl_MDmhWcqZ"
      },
      "outputs": [],
      "source": [
        "def merge(list1, list2):\n",
        "    # 여기에 코드를 작성하세요\n",
        "    \n",
        "# 테스트 코드\n",
        "print(merge([1],[]))\n",
        "print(merge([],[1]))\n",
        "print(merge([2],[1]))\n",
        "print(merge([1, 2, 3, 4],[5, 6, 7, 8]))\n",
        "print(merge([5, 6, 7, 8],[1, 2, 3, 4]))\n",
        "print(merge([4, 7, 8, 9],[1, 3, 6, 10]))"
      ]
    }
  ]
}