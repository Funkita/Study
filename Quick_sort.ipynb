{
  "nbformat": 4,
  "nbformat_minor": 0,
  "metadata": {
    "colab": {
      "provenance": [],
      "authorship_tag": "ABX9TyPW2M16XCrU6j06EfkAOhfB",
      "include_colab_link": true
    },
    "kernelspec": {
      "name": "python3",
      "display_name": "Python 3"
    },
    "language_info": {
      "name": "python"
    }
  },
  "cells": [
    {
      "cell_type": "markdown",
      "metadata": {
        "id": "view-in-github",
        "colab_type": "text"
      },
      "source": [
        "<a href=\"https://colab.research.google.com/github/Funkita/Study/blob/main/Quick_sort.ipynb\" target=\"_parent\"><img src=\"https://colab.research.google.com/assets/colab-badge.svg\" alt=\"Open In Colab\"/></a>"
      ]
    },
    {
      "cell_type": "code",
      "execution_count": 4,
      "metadata": {
        "colab": {
          "base_uri": "https://localhost:8080/"
        },
        "id": "gisOug4FBAxA",
        "outputId": "8e4ffb15-944f-48fb-f63c-e214c6f677e9"
      },
      "outputs": [
        {
          "output_type": "stream",
          "name": "stdout",
          "text": [
            "[4, 3, 2, 1, 5, 6, 7]\n",
            "4\n",
            "[1, 2, 3, 4, 6, 5, 6]\n",
            "3\n"
          ]
        }
      ],
      "source": [
        "# 두 요소의 위치를 바꿔주는 helper function\n",
        "def swap_elements(my_list, index1, index2):\n",
        "    # 여기에 코드를 작성하세요\n",
        "  x = my_list[index1]\n",
        "  y = my_list[index2]\n",
        "\n",
        "  my_list[index1] = y\n",
        "  my_list[index2] = x\n",
        "\n",
        "# 퀵 정렬에서 사용되는 partition 함수\n",
        "def partition(my_list, start, end):\n",
        "    # 여기에 코드를 작성하세요\n",
        "            \n",
        "  pivot = my_list[end]\n",
        "  i = 0\n",
        "  b = 0\n",
        "  while i in range(len(my_list)) and b in range(len(my_list)):\n",
        "    if my_list[i] > pivot:\n",
        "      i+=1\n",
        "    else: \n",
        "      swap_elements(my_list, b, i)\n",
        "      i+=1\n",
        "      b+=1\n",
        "  return b-1\n",
        "         \n",
        "    \n",
        "# 테스트 코드 1\n",
        "list1 = [4, 3, 6, 2, 7, 1, 5]\n",
        "pivot_index1 = partition(list1, 0, len(list1) - 1)\n",
        "print(list1)\n",
        "print(pivot_index1)\n",
        "\n",
        "# 테스트 코드 2\n",
        "list2 = [6, 1, 2, 6, 3, 5, 4]\n",
        "pivot_index2 = partition(list2, 0, len(list2) - 1)\n",
        "print(list2)\n",
        "print(pivot_index2)\n"
      ]
    }
  ]
}