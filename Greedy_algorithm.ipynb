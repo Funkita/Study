{
  "nbformat": 4,
  "nbformat_minor": 0,
  "metadata": {
    "colab": {
      "provenance": [],
      "authorship_tag": "ABX9TyMX4UPggu6C5vQ6ysh8fkDN",
      "include_colab_link": true
    },
    "kernelspec": {
      "name": "python3",
      "display_name": "Python 3"
    },
    "language_info": {
      "name": "python"
    }
  },
  "cells": [
    {
      "cell_type": "markdown",
      "metadata": {
        "id": "view-in-github",
        "colab_type": "text"
      },
      "source": [
        "<a href=\"https://colab.research.google.com/github/Funkita/Study/blob/main/Greedy_algorithm.ipynb\" target=\"_parent\"><img src=\"https://colab.research.google.com/assets/colab-badge.svg\" alt=\"Open In Colab\"/></a>"
      ]
    },
    {
      "cell_type": "code",
      "execution_count": 3,
      "metadata": {
        "colab": {
          "base_uri": "https://localhost:8080/"
        },
        "id": "sukcFmrhJ0gP",
        "outputId": "3a09aea1-9f65-49bf-b60d-5139892be2d4"
      },
      "outputs": [
        {
          "output_type": "stream",
          "name": "stdout",
          "text": [
            "10\n",
            "5\n",
            "49\n",
            "70\n"
          ]
        }
      ],
      "source": [
        "def min_coin_count(value, coin_list):\n",
        "    # 여기에 코드를 작성하세요\n",
        "  count = 0\n",
        "\n",
        "  for coin in sorted(coin_list, reverse=True):\n",
        "    count += value // coin\n",
        "    value %= coin\n",
        "  \n",
        "  return count\n",
        "# 테스트 코드\n",
        "default_coin_list = [100, 500, 10, 50]\n",
        "print(min_coin_count(1440, default_coin_list))\n",
        "print(min_coin_count(1700, default_coin_list))\n",
        "print(min_coin_count(23520, default_coin_list))\n",
        "print(min_coin_count(32590, default_coin_list))"
      ]
    }
  ]
}