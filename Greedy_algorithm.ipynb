{
  "nbformat": 4,
  "nbformat_minor": 0,
  "metadata": {
    "colab": {
      "provenance": [],
      "authorship_tag": "ABX9TyN6g/Cb/A1PV6G4JEiPI9cg",
      "include_colab_link": true
    },
    "kernelspec": {
      "name": "python3",
      "display_name": "Python 3"
    },
    "language_info": {
      "name": "python"
    }
  },
  "cells": [
    {
      "cell_type": "markdown",
      "metadata": {
        "id": "view-in-github",
        "colab_type": "text"
      },
      "source": [
        "<a href=\"https://colab.research.google.com/github/Funkita/Study/blob/main/Greedy_algorithm.ipynb\" target=\"_parent\"><img src=\"https://colab.research.google.com/assets/colab-badge.svg\" alt=\"Open In Colab\"/></a>"
      ]
    },
    {
      "cell_type": "code",
      "execution_count": 3,
      "metadata": {
        "colab": {
          "base_uri": "https://localhost:8080/"
        },
        "id": "sukcFmrhJ0gP",
        "outputId": "3a09aea1-9f65-49bf-b60d-5139892be2d4"
      },
      "outputs": [
        {
          "output_type": "stream",
          "name": "stdout",
          "text": [
            "10\n",
            "5\n",
            "49\n",
            "70\n"
          ]
        }
      ],
      "source": [
        "def min_coin_count(value, coin_list):\n",
        "    # 여기에 코드를 작성하세요\n",
        "  count = 0\n",
        "\n",
        "  for coin in sorted(coin_list, reverse=True):\n",
        "    count += value // coin\n",
        "    value %= coin\n",
        "  \n",
        "  return count\n",
        "# 테스트 코드\n",
        "default_coin_list = [100, 500, 10, 50]\n",
        "print(min_coin_count(1440, default_coin_list))\n",
        "print(min_coin_count(1700, default_coin_list))\n",
        "print(min_coin_count(23520, default_coin_list))\n",
        "print(min_coin_count(32590, default_coin_list))"
      ]
    },
    {
      "cell_type": "code",
      "source": [
        "def max_product(card_lists):\n",
        "    # 여기에 코드를 작성하세요\n",
        "  \n",
        "  product = 1\n",
        "\n",
        "  for card_list in card_lists:\n",
        "    product *= max(card_list)\n",
        "\n",
        "  return product\n",
        "\n",
        "# 테스트 코드\n",
        "test_cards1 = [[1, 6, 5], [4, 2, 3]]\n",
        "print(max_product(test_cards1))\n",
        "\n",
        "test_cards2 = [[9, 7, 8], [9, 2, 3], [9, 8, 1], [2, 8, 3], [1, 3, 6], [7, 7, 4]]\n",
        "print(max_product(test_cards2))\n",
        "\n",
        "test_cards3 = [[1, 2, 3], [4, 6, 1], [8, 2, 4], [3, 2, 5], [5, 2, 3], [3, 2, 1]]\n",
        "print(max_product(test_cards3))\n",
        "\n",
        "test_cards4 = [[5, 5, 5], [4, 3, 5], [1, 1, 1], [9, 8, 3], [2, 8, 4], [5, 7, 4]]\n",
        "print(max_product(test_cards4))\n"
      ],
      "metadata": {
        "colab": {
          "base_uri": "https://localhost:8080/"
        },
        "id": "CwjvbDm8VhWL",
        "outputId": "4c0e30fb-39a9-4009-f8a3-ec2bebcfae93"
      },
      "execution_count": 15,
      "outputs": [
        {
          "output_type": "stream",
          "name": "stdout",
          "text": [
            "24\n",
            "244944\n",
            "10800\n",
            "12600\n"
          ]
        }
      ]
    },
    {
      "cell_type": "code",
      "source": [
        "def min_fee(pages_to_print):\n",
        "    # 여기에 코드를 작성하세요\n",
        "    fee = 0\n",
        "    a = sorted(pages_to_print, reverse=False)\n",
        "    for i in range(0, len(pages_to_print)):\n",
        "      fee += a[i] * (len(pages_to_print) - i )\n",
        "    return fee\n",
        "\n",
        "\n",
        "# 테스트 코드\n",
        "print(min_fee([6, 11, 4, 1]))\n",
        "print(min_fee([3, 2, 1]))\n",
        "print(min_fee([3, 1, 4, 3, 2]))\n",
        "print(min_fee([8, 4, 2, 3, 9, 23, 6, 8]))"
      ],
      "metadata": {
        "colab": {
          "base_uri": "https://localhost:8080/"
        },
        "id": "GQ8B5A60AgxF",
        "outputId": "356d21b1-9a94-439c-cb29-4f10dcb69cf0"
      },
      "execution_count": 18,
      "outputs": [
        {
          "output_type": "stream",
          "name": "stdout",
          "text": [
            "39\n",
            "10\n",
            "32\n",
            "188\n"
          ]
        }
      ]
    },
    {
      "cell_type": "code",
      "source": [
        "def course_selection(course_list):\n",
        "    # 여기에 코드를 작성하세요\n",
        "  sorted_course_list = sorted(course_list, key = lambda x: x[1])\n",
        "  my_selection = [sorted_course_list[0]]\n",
        "  \n",
        "  for course in sorted_course_list:\n",
        "    if course[0] > my_selection[-1][1]:\n",
        "      my_selection.append(course)\n",
        " \n",
        "  return my_selection\n",
        "\n",
        "\n",
        "# 테스트 코드\n",
        "print(course_selection([(6, 10), (2, 3), (4, 5), (1, 7), (6, 8), (9, 10)]))\n",
        "print(course_selection([(1, 2), (3, 4), (0, 6), (5, 7), (8, 9), (5, 9)]))\n",
        "print(course_selection([(4, 7), (2, 5), (1, 3), (8, 10), (5, 9), (2, 5), (13, 16), (9, 11), (1, 8)]))\n"
      ],
      "metadata": {
        "colab": {
          "base_uri": "https://localhost:8080/"
        },
        "id": "DiiYzPgUD4Ls",
        "outputId": "0c205630-ebb1-48a0-b844-5c000c1fa1fd"
      },
      "execution_count": 26,
      "outputs": [
        {
          "output_type": "stream",
          "name": "stdout",
          "text": [
            "[(2, 3), (4, 5), (6, 8), (9, 10)]\n",
            "[(1, 2), (3, 4), (5, 7), (8, 9)]\n",
            "[(1, 3), (4, 7), (8, 10), (13, 16)]\n"
          ]
        }
      ]
    }
  ]
}